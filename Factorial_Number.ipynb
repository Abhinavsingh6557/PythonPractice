{
 "cells": [
  {
   "cell_type": "code",
   "execution_count": 2,
   "id": "4dd5803d-6c57-4f85-bf3d-38a6d36e8951",
   "metadata": {},
   "outputs": [
    {
     "name": "stdin",
     "output_type": "stream",
     "text": [
      "Enter a number:  4\n"
     ]
    },
    {
     "name": "stdout",
     "output_type": "stream",
     "text": [
      "The Factorial of 4 is 1\n",
      "The Factorial of 4 is 2\n",
      "The Factorial of 4 is 6\n",
      "The Factorial of 4 is 24\n"
     ]
    }
   ],
   "source": [
    "num = int(input(\"Enter a number: \"))\n",
    "factorial = 1\n",
    "if(num < 0):\n",
    "    print(\"Factorial does not exist for negative numbers\")\n",
    "elif(num == 0):\n",
    "    print(\"Factorial of 0 is 1\")\n",
    "\n",
    "else: \n",
    "    for i in range(1, num+1):\n",
    "        factorial = factorial*i\n",
    "        print(f'The Factorial of {num} is {factorial}')\n",
    "    "
   ]
  },
  {
   "cell_type": "markdown",
   "id": "e8ccc9f9-48fd-4362-b4a1-bf674a5b67ea",
   "metadata": {},
   "source": [
    "Find Factorial of a Number using Recursion"
   ]
  },
  {
   "cell_type": "code",
   "execution_count": 8,
   "id": "26b1be3c-4f5f-415b-a0f7-4d3a104a5b63",
   "metadata": {},
   "outputs": [
    {
     "name": "stdin",
     "output_type": "stream",
     "text": [
      "Enter a number:  5\n"
     ]
    },
    {
     "name": "stdout",
     "output_type": "stream",
     "text": [
      "The factorial of given number 120\n"
     ]
    }
   ],
   "source": [
    "def fact(a):\n",
    "    if a == 0:\n",
    "        return 1\n",
    "    else:\n",
    "        return ((a)* fact(a-1))\n",
    "\n",
    "num = int(input(\"Enter a number: \"))\n",
    "\n",
    "result = fact(num)\n",
    "print(\"The factorial of given number\", result)"
   ]
  },
  {
   "cell_type": "code",
   "execution_count": null,
   "id": "b2e408c6-73f4-4a3d-8239-8f3c224ec3bf",
   "metadata": {},
   "outputs": [],
   "source": []
  }
 ],
 "metadata": {
  "kernelspec": {
   "display_name": "Python 3 (ipykernel)",
   "language": "python",
   "name": "python3"
  },
  "language_info": {
   "codemirror_mode": {
    "name": "ipython",
    "version": 3
   },
   "file_extension": ".py",
   "mimetype": "text/x-python",
   "name": "python",
   "nbconvert_exporter": "python",
   "pygments_lexer": "ipython3",
   "version": "3.12.4"
  }
 },
 "nbformat": 4,
 "nbformat_minor": 5
}
