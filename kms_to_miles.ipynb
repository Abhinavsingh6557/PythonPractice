{
 "cells": [
  {
   "cell_type": "code",
   "execution_count": 4,
   "id": "94ff9835-2c38-4db0-9ab4-896351e3b952",
   "metadata": {},
   "outputs": [
    {
     "name": "stdin",
     "output_type": "stream",
     "text": [
      "enter a value in kms :  5\n"
     ]
    },
    {
     "name": "stdout",
     "output_type": "stream",
     "text": [
      "5.0 kms will be 3.106855 miles\n"
     ]
    }
   ],
   "source": [
    "#Convert Kilometre in miles\n",
    "km = float(input(\"enter a value in kms : \"))\n",
    "\n",
    "miles = (0.621371)*km\n",
    "\n",
    "print(km, \"kms will be\", miles, \"miles\")"
   ]
  },
  {
   "cell_type": "code",
   "execution_count": null,
   "id": "28cb57bc-1a2d-4113-af17-a469b07c7e6b",
   "metadata": {},
   "outputs": [],
   "source": []
  }
 ],
 "metadata": {
  "kernelspec": {
   "display_name": "Python 3 (ipykernel)",
   "language": "python",
   "name": "python3"
  },
  "language_info": {
   "codemirror_mode": {
    "name": "ipython",
    "version": 3
   },
   "file_extension": ".py",
   "mimetype": "text/x-python",
   "name": "python",
   "nbconvert_exporter": "python",
   "pygments_lexer": "ipython3",
   "version": "3.12.4"
  }
 },
 "nbformat": 4,
 "nbformat_minor": 5
}
