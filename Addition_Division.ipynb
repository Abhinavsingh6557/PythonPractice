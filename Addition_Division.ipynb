{
 "cells": [
  {
   "cell_type": "markdown",
   "id": "77618af9-a90e-4ffc-9b0e-1b0d9716fc17",
   "metadata": {},
   "source": [
    "Write a Python program to do arithmetical operations addition and division."
   ]
  },
  {
   "cell_type": "code",
   "execution_count": 1,
   "id": "eb705933-b7d6-4a1b-8b13-2faa53b146a6",
   "metadata": {},
   "outputs": [
    {
     "name": "stdin",
     "output_type": "stream",
     "text": [
      "Enter a number:  2\n",
      "Enter a number:  2\n"
     ]
    },
    {
     "name": "stdout",
     "output_type": "stream",
     "text": [
      "4.0\n"
     ]
    }
   ],
   "source": [
    "num1 = float(input(\"Enter a first number: \"))\n",
    "num2 = float(input(\"Enter a second number: \"))\n",
    "\n",
    "sum = num1 + num2 \n",
    "print(sum)"
   ]
  },
  {
   "cell_type": "code",
   "execution_count": null,
   "id": "ac23fe1a-549e-4dd4-b309-00adb85785b4",
   "metadata": {},
   "outputs": [],
   "source": [
    "num1 = float(input(\"Enter a first number: \"))\n",
    "num2 = float(input(\"Enter a second number: \"))\n",
    "\n",
    "if num2 == 0:\n",
    "    print(\"Error:\")\n",
    "else:\n",
    "    sum  = num1 / num2\n",
    "    print(f\"Division: {num1} / {num2} = {sum}\")"
   ]
  },
  {
   "cell_type": "code",
   "execution_count": 1,
   "id": "ce67cdb6-ee17-4ed7-a3f9-2d4386921f4c",
   "metadata": {},
   "outputs": [
    {
     "name": "stdin",
     "output_type": "stream",
     "text": [
      "Enter a first number:  4\n",
      "Enter a second number:  2\n"
     ]
    },
    {
     "name": "stdout",
     "output_type": "stream",
     "text": [
      "2.0\n"
     ]
    }
   ],
   "source": [
    "num1 = float(input(\"Enter a first number: \"))\n",
    "num2 = float(input(\"Enter a second number: \"))\n",
    "\n",
    "sum = num1 / num2 \n",
    "print(sum)"
   ]
  },
  {
   "cell_type": "code",
   "execution_count": null,
   "id": "33d1591a-67d8-4a08-8243-b8dcaa9246e5",
   "metadata": {},
   "outputs": [],
   "source": []
  }
 ],
 "metadata": {
  "kernelspec": {
   "display_name": "Python 3 (ipykernel)",
   "language": "python",
   "name": "python3"
  },
  "language_info": {
   "codemirror_mode": {
    "name": "ipython",
    "version": 3
   },
   "file_extension": ".py",
   "mimetype": "text/x-python",
   "name": "python",
   "nbconvert_exporter": "python",
   "pygments_lexer": "ipython3",
   "version": "3.12.4"
  }
 },
 "nbformat": 4,
 "nbformat_minor": 5
}
