{
 "cells": [
  {
   "cell_type": "code",
   "execution_count": 2,
   "id": "8473736b-1e93-487d-9b94-616eea6c1c36",
   "metadata": {},
   "outputs": [
    {
     "name": "stdin",
     "output_type": "stream",
     "text": [
      "Enter a Number 5\n"
     ]
    },
    {
     "name": "stdout",
     "output_type": "stream",
     "text": [
      "1\n",
      "2\n",
      "3\n",
      "4\n",
      "5\n",
      "Total sum = 15\n",
      "Average of sum= 7.5\n"
     ]
    }
   ],
   "source": [
    "#write a program to sum of n given number\n",
    "\n",
    "n=int(input(\"Enter a Number\"))\n",
    "sum=0\n",
    "for i in range(1,n+1):\n",
    "    sum+=i\n",
    "    print(i)\n",
    "\n",
    "avg=sum/2\n",
    "print(\"Total sum =\", sum)\n",
    "print(\"Average of sum=\", avg)"
   ]
  },
  {
   "cell_type": "code",
   "execution_count": null,
   "id": "e6364e83-b6ef-4bfe-864e-a5dac74fe4df",
   "metadata": {},
   "outputs": [],
   "source": []
  }
 ],
 "metadata": {
  "kernelspec": {
   "display_name": "Python 3 (ipykernel)",
   "language": "python",
   "name": "python3"
  },
  "language_info": {
   "codemirror_mode": {
    "name": "ipython",
    "version": 3
   },
   "file_extension": ".py",
   "mimetype": "text/x-python",
   "name": "python",
   "nbconvert_exporter": "python",
   "pygments_lexer": "ipython3",
   "version": "3.12.4"
  }
 },
 "nbformat": 4,
 "nbformat_minor": 5
}
