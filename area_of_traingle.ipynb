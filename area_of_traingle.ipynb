{
 "cells": [
  {
   "cell_type": "code",
   "execution_count": 2,
   "id": "b2aa0113-9270-4ed5-b78e-b390513bec46",
   "metadata": {},
   "outputs": [
    {
     "name": "stdin",
     "output_type": "stream",
     "text": [
      "enter the height of the traingle:  5\n",
      "enter the base of the traingle:  5\n"
     ]
    },
    {
     "name": "stdout",
     "output_type": "stream",
     "text": [
      "The area of 12.5\n"
     ]
    }
   ],
   "source": [
    "#Area of a triangle \n",
    "height = float(input(\"enter the height of the traingle: \"))\n",
    "base = float(input(\"enter the base of the traingle: \"))\n",
    "\n",
    "area = (0.5)*base*height\n",
    "\n",
    "print('The area of triangle is', area)\n"
   ]
  },
  {
   "cell_type": "code",
   "execution_count": null,
   "id": "7edf366c-2511-4f8d-8eee-52361f4045a0",
   "metadata": {},
   "outputs": [],
   "source": []
  }
 ],
 "metadata": {
  "kernelspec": {
   "display_name": "Python 3 (ipykernel)",
   "language": "python",
   "name": "python3"
  },
  "language_info": {
   "codemirror_mode": {
    "name": "ipython",
    "version": 3
   },
   "file_extension": ".py",
   "mimetype": "text/x-python",
   "name": "python",
   "nbconvert_exporter": "python",
   "pygments_lexer": "ipython3",
   "version": "3.12.4"
  }
 },
 "nbformat": 4,
 "nbformat_minor": 5
}
